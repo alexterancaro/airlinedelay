{
 "cells": [
  {
   "cell_type": "markdown",
   "metadata": {},
   "source": [
    "# Challenge:\n",
    "The problem consists in predicting the probability of delay of the flights that land or take off from the airport of Santiago de Chile (SCL). For that you will have a dataset using public and real data where each row corresponds to a flight that landed or took off from SCL during 2017. The following information is available for each flight:\n",
    "Fecha-I: Scheduled date and time of the flight.\n",
    "Vlo-I : Scheduled flight number.\n",
    "Ori-I : Programmed origin city code.\n",
    "Des-I : Programmed destination city code.\n",
    "Emp-I : Scheduled flight airline code.\n",
    "Fecha-O : Date and time of flight operation.\n",
    "Vlo-O : Flight operation number of the flight.\n",
    "Ori-O : Operation origin city code\n",
    "Des-O : Operation destination city code.\n",
    "Emp-O : Airline code of the operated flight.\n",
    "DIA: Day of the month of flight operation.\n",
    "MES : Number of the month of operation of the flight.\n",
    "AÑO : Year of flight operation.\n",
    "DIANOM : Day of the week of flight operation.\n",
    "TIPOVUELO : Type of flight, I =International, N =National.\n",
    "OPERA : Name of the airline that operates.\n",
    "SIGLAORI: Name city of origin.\n",
    "SIGLADES: Destination city name.\n",
    "\n",
    "## Challenge\n",
    "1. How is the data distributed? Did you find any noteworthy insight to share? What can you conclude about this?\n",
    "2. Generate the following additional columns. Please export them to a CSV file named synthetic_features.csv:\n",
    "○ high_season : 1 if Date-I is between Dec-15 and Mar-3, or Jul-15 and Jul-31, or Sep-11 and Sep-30, 0 otherwise.\n",
    "○ min_diff : difference in minutes between Date-O and Date-I .\n",
    "○ delay_15 : 1 if min_diff > 15, 0 if not.\n",
    "○ period_day : morning (between 5:00 and 11:59), afternoon (between 12:00 and 18:59) and night (between 19:00 and 4:59), based\n",
    "onDate-I .\n",
    "3. What is the behavior of the delay rate across destination, airline, month of the year, day of the week, season, type of flight?What\n",
    "variables would you expect to have the most influence in predicting delays?\n",
    "4. Train one or several models (using the algorithm(s) of your choice) to estimate the likelihood of a flight delay.\n",
    "Feel free to generate additional variables and/or supplement with external variables.\n",
    "5. Evaluate model performance in the predictive task across each model that you trained. Define and justify what metrics you used\n",
    "to assess model performance. Pick the best trained model and evaluate the following: What variables were the most influential in\n",
    "the prediction task? How could you improve the\n",
    "Performance?\n",
    "\n",
    "## Additional aspects to consider in the evaluation\n",
    "Order and clarity when proposing an analysis, idea, code, etc.\n",
    "Creativity to solve the challenge.\n",
    "Versioned code in Git.\n",
    "We are not going to review excel, macros, R codes.\n",
    "We will not review challenges that do not arrive on the indicated date\n",
    "When in doubt, make your assumptions explicit.\n",
    "Try to express yourself as best as possible to explain your decisions and answers."
   ]
  }
 ],
 "metadata": {
  "language_info": {
   "name": "python"
  },
  "orig_nbformat": 4
 },
 "nbformat": 4,
 "nbformat_minor": 2
}
